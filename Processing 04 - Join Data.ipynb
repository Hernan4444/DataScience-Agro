{
 "cells": [
  {
   "cell_type": "markdown",
   "metadata": {},
   "source": [
    "# Join Import Data"
   ]
  },
  {
   "cell_type": "markdown",
   "metadata": {},
   "source": [
    "Para esta parte, es necesario tener los datos separados por año, mes y la exportacion con los complementes. Es decir, haber ejecutado previamente **Filter export data**, **Filter import data**, y **Complement export data**. En este python tambien se agregan en nombre de las columnas."
   ]
  },
  {
   "cell_type": "code",
   "execution_count": 7,
   "metadata": {
    "collapsed": true
   },
   "outputs": [],
   "source": [
    "import os\n",
    "import pandas as pd\n",
    "import csv\n",
    "import json"
   ]
  },
  {
   "cell_type": "markdown",
   "metadata": {},
   "source": [
    "Generamos una lista con todas las columnas de los archivos a analizar."
   ]
  },
  {
   "cell_type": "code",
   "execution_count": 9,
   "metadata": {
    "collapsed": true
   },
   "outputs": [],
   "source": [
    "with open(\"csv_columns.json\") as file:\n",
    "    columns = json.load(file)\n",
    "\n",
    "columns_import = columns[\"columns_import\"]\n",
    "columns_export = columns[\"columns_export\"]"
   ]
  },
  {
   "cell_type": "markdown",
   "metadata": {},
   "source": [
    "Creamos la carpeta donde guardaremos los nuevos archivos unidos, para eso primero necesitamos el directorio de trabajo (Working directory)"
   ]
  },
  {
   "cell_type": "code",
   "execution_count": 10,
   "metadata": {
    "collapsed": true
   },
   "outputs": [],
   "source": [
    "# Working directory\n",
    "cwd = os.getcwd()\n",
    "\n",
    "# Create filter folder\n",
    "if not os.path.exists(cwd + os.sep + \"data\"):\n",
    "    os.makedirs(cwd + os.sep + \"data\")\n",
    "\n",
    "# Create import folder\n",
    "if not os.path.exists(cwd + os.sep + \"data\" + os.sep + \"import\"):\n",
    "    os.makedirs(cwd + os.sep + \"data\" + os.sep + \"import\")\n",
    "    \n",
    "    \n",
    "# Create export folder\n",
    "if not os.path.exists(cwd + os.sep + \"data\" + os.sep + \"export\"):\n",
    "    os.makedirs(cwd + os.sep + \"data\" + os.sep + \"export\")"
   ]
  },
  {
   "cell_type": "markdown",
   "metadata": {},
   "source": [
    "# Join Import Data"
   ]
  },
  {
   "cell_type": "code",
   "execution_count": 14,
   "metadata": {},
   "outputs": [
    {
     "name": "stdout",
     "output_type": "stream",
     "text": [
      "Import join\n"
     ]
    }
   ],
   "source": [
    "read_path = cwd + os.sep + \"Filter_Data\" + os.sep + \"import\"\n",
    "write_path = cwd + os.sep + \"data\" + os.sep + \"import\"\n",
    "\n",
    "total_data = None\n",
    "\n",
    "for year in os.listdir(read_path):\n",
    "    year_path = read_path + os.sep + year\n",
    "    filename_out = write_path + os.sep + year + \".txt\"\n",
    "    \n",
    "    year_df = None\n",
    "    \n",
    "    for month in os.listdir(year_path):\n",
    "        filename = year_path + os.sep + month\n",
    "        \n",
    "        csv_file = pd.read_csv(filename, names=columns_import,\n",
    "                               header=None, sep=\";\", encoding=\"latin1\",\n",
    "                               quoting=csv.QUOTE_NONE)\n",
    "        \n",
    "        csv_file[\"YEAR\"] = [year for _ in range(csv_file.shape[0])]\n",
    "        csv_file[\"MONTH\"] = [month[:2] for _ in range(csv_file.shape[0])]\n",
    "        \n",
    "        if year_df is None:\n",
    "            year_df = csv_file\n",
    "        else:\n",
    "            year_df = pd.concat([year_df, csv_file])\n",
    "            \n",
    "        if total_data is None:\n",
    "            total_data = csv_file\n",
    "        else:\n",
    "            total_data = pd.concat([total_data, csv_file])\n",
    "            \n",
    "    year_df.to_csv(filename_out, sep=\";\", encoding=\"latin1\", header=True,\n",
    "                   index=False, quoting=csv.QUOTE_NONE)\n",
    "    \n",
    "total_data.to_csv(write_path + os.sep + \"all_import.txt\", sep=\";\", encoding=\"latin1\",\n",
    "               index=False, quoting=csv.QUOTE_NONE)\n",
    "    \n",
    "print(\"Import join\")"
   ]
  },
  {
   "cell_type": "markdown",
   "metadata": {},
   "source": [
    "# Join Export Data"
   ]
  },
  {
   "cell_type": "code",
   "execution_count": 17,
   "metadata": {},
   "outputs": [
    {
     "name": "stdout",
     "output_type": "stream",
     "text": [
      "Export join\n"
     ]
    }
   ],
   "source": [
    "read_path = cwd + os.sep + \"Filter_Data\" + os.sep + \"export\"\n",
    "write_path = cwd + os.sep + \"data\" + os.sep + \"export\"\n",
    "\n",
    "total_data = None\n",
    "\n",
    "for year in os.listdir(read_path):\n",
    "    year_path = read_path + os.sep + year\n",
    "    filename_out = write_path + os.sep + year + \".txt\"\n",
    "    \n",
    "    year_df = None\n",
    "    \n",
    "    for month in os.listdir(year_path):\n",
    "        filename = year_path + os.sep + month\n",
    "        \n",
    "        csv_file = pd.read_csv(filename, names=columns_export,\n",
    "                               header=None, sep=\";\", encoding=\"latin1\",\n",
    "                               quoting=csv.QUOTE_NONE)\n",
    "        \n",
    "        csv_file[\"YEAR\"] = [year for _ in range(csv_file.shape[0])]\n",
    "        csv_file[\"MONTH\"] = [month[:2] for _ in range(csv_file.shape[0])]\n",
    "        \n",
    "        if year_df is None:\n",
    "            year_df = csv_file\n",
    "        else:\n",
    "            year_df = pd.concat([year_df, csv_file])\n",
    "            \n",
    "        if total_data is None:\n",
    "            total_data = csv_file\n",
    "        else:\n",
    "            total_data = pd.concat([total_data, csv_file])\n",
    "            \n",
    "            \n",
    "    year_df.to_csv(filename_out, sep=\";\", encoding=\"latin1\", header=True,\n",
    "                   index=False, quoting=csv.QUOTE_NONE)\n",
    "    \n",
    "total_data.to_csv(write_path + os.sep + \"all_export.txt\", sep=\";\", encoding=\"latin1\",\n",
    "               index=False, quoting=csv.QUOTE_NONE)\n",
    "\n",
    "    \n",
    "print(\"Export join\")"
   ]
  }
 ],
 "metadata": {
  "kernelspec": {
   "display_name": "Python 3",
   "language": "python",
   "name": "python3"
  },
  "language_info": {
   "codemirror_mode": {
    "name": "ipython",
    "version": 3
   },
   "file_extension": ".py",
   "mimetype": "text/x-python",
   "name": "python",
   "nbconvert_exporter": "python",
   "pygments_lexer": "ipython3",
   "version": "3.6.1"
  }
 },
 "nbformat": 4,
 "nbformat_minor": 2
}
