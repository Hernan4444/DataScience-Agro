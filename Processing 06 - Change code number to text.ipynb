{
 "cells": [
  {
   "cell_type": "code",
   "execution_count": 1,
   "metadata": {
    "collapsed": true
   },
   "outputs": [],
   "source": [
    "import pandas as pd\n",
    "import os\n",
    "import csv"
   ]
  },
  {
   "cell_type": "markdown",
   "metadata": {},
   "source": [
    "# Build the dictionary to change the code nmber to text"
   ]
  },
  {
   "cell_type": "code",
   "execution_count": 2,
   "metadata": {
    "collapsed": true
   },
   "outputs": [],
   "source": [
    "transport = {'1'  : \"MARÍTIMA\",\n",
    "             '4'  : \"AÉREO\",\n",
    "             '5'  : \"POSTAL\",\n",
    "             '6'  : \"FERROVIARIO\",\n",
    "             '7'  : \"CARRETERO\",\n",
    "             '8'  : \"OLEODUCTOS\",\n",
    "             '9'  : \"TENDIDO ELÉCTRICO\",\n",
    "             '10' : \"OTRA\"}\n",
    "country = {}\n",
    "country_data = pd.read_csv(\"Countries_code.csv\", sep=\",\", encoding=\"latin1\")\n",
    "for key,value in country_data.set_index('CODIGO').T.to_dict('list').items():\n",
    "    country[str(key)] = value[0]\n",
    "\n",
    "    \n",
    "    \n",
    "aranc_code = {}\n",
    "aranc_code_data = pd.read_csv(\"Aranc_code.csv\", sep=\",\", encoding=\"latin1\")\n",
    "for key,value in aranc_code_data.set_index('code').T.to_dict('list').items():\n",
    "    aranc_code[str(key)] = value[0]\n",
    "\n",
    "group = { \"A\": \"Flower bulbs\",\n",
    "          \"B\": \"Other live plants\",\n",
    "          \"C\": \"Other live plants\",\n",
    "          \"D\": \"Cut flowers\",\n",
    "          \"E\": \"Foliage\"}"
   ]
  },
  {
   "cell_type": "markdown",
   "metadata": {},
   "source": [
    "### Create the function to change label"
   ]
  },
  {
   "cell_type": "code",
   "execution_count": 3,
   "metadata": {
    "collapsed": true
   },
   "outputs": [],
   "source": [
    "def change_label(x, dictionary):\n",
    "    if x in dictionary:\n",
    "        return dictionary[x]\n",
    "    return \"Others\""
   ]
  },
  {
   "cell_type": "markdown",
   "metadata": {},
   "source": [
    "## Change Import code"
   ]
  },
  {
   "cell_type": "code",
   "execution_count": 4,
   "metadata": {
    "collapsed": true
   },
   "outputs": [],
   "source": [
    "filename_read = \"data\" + os.sep + \"import\"\n",
    "\n",
    "for file in os.listdir(filename_read):\n",
    "    path = filename_read + os.sep + file\n",
    "    path_write = path.strip(\".txt\") + \"_and_label.txt\"\n",
    "    data = pd.read_csv(path, sep=\";\", encoding=\"latin1\", quoting=csv.QUOTE_NONE, dtype = object)\n",
    "\n",
    "    data['VIA_TRAN'] = data['VIA_TRAN'].apply(lambda x: change_label(str(x), transport))\n",
    "    data['ARANC_NAC'] = data['ARANC_NAC'].apply(lambda x: change_label(str(x), aranc_code))\n",
    "    data['PA_ORIG'] = data['PA_ORIG'].apply(lambda x: change_label(str(x), country))\n",
    "    data['GROUP'] = data['GROUP'].apply(lambda x: change_label(str(x), group))\n",
    "\n",
    "\n",
    "    data.to_csv(path_write, sep=\";\", encoding=\"latin1\", header=True,\n",
    "                       index=False, quoting=csv.QUOTE_NONE)"
   ]
  },
  {
   "cell_type": "markdown",
   "metadata": {},
   "source": [
    "### Change Export code"
   ]
  },
  {
   "cell_type": "code",
   "execution_count": 5,
   "metadata": {
    "collapsed": true
   },
   "outputs": [],
   "source": [
    "filename_read = \"data\" + os.sep + \"export\"\n",
    "\n",
    "for file in os.listdir(filename_read):\n",
    "    path = filename_read + os.sep + file\n",
    "    path_write = path.strip(\".txt\") + \"_and_label.txt\"\n",
    "    data = pd.read_csv(path, sep=\";\", encoding=\"latin1\", quoting=csv.QUOTE_NONE, dtype = object)\n",
    "\n",
    "    data['VIATRANSPORTE'] = data['VIATRANSPORTE'].apply(lambda x: change_label(str(x), transport))\n",
    "    data['CODIGOARANCEL'] = data['CODIGOARANCEL'].apply(lambda x: change_label(str(x), aranc_code))\n",
    "    data['PAISDESTINO'] = data['PAISDESTINO'].apply(lambda x: change_label(str(x), country))\n",
    "    data['GROUP'] = data['GROUP'].apply(lambda x: change_label(str(x), group))\n",
    "\n",
    "\n",
    "    data.to_csv(path_write, sep=\";\", encoding=\"latin1\", header=True,\n",
    "                       index=False, quoting=csv.QUOTE_NONE)"
   ]
  }
 ],
 "metadata": {
  "kernelspec": {
   "display_name": "Python 3",
   "language": "python",
   "name": "python3"
  },
  "language_info": {
   "codemirror_mode": {
    "name": "ipython",
    "version": 3
   },
   "file_extension": ".py",
   "mimetype": "text/x-python",
   "name": "python",
   "nbconvert_exporter": "python",
   "pygments_lexer": "ipython3",
   "version": "3.6.1"
  }
 },
 "nbformat": 4,
 "nbformat_minor": 2
}
