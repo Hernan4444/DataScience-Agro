{
 "cells": [
  {
   "cell_type": "markdown",
   "metadata": {},
   "source": [
    "# Filter Import Data"
   ]
  },
  {
   "cell_type": "code",
   "execution_count": 1,
   "metadata": {
    "collapsed": true
   },
   "outputs": [],
   "source": [
    "import os\n",
    "import pandas as pd"
   ]
  },
  {
   "cell_type": "markdown",
   "metadata": {},
   "source": [
    "Generamos una lista con todas las columnas de los archivos a analizar."
   ]
  },
  {
   "cell_type": "code",
   "execution_count": 2,
   "metadata": {
    "collapsed": true
   },
   "outputs": [],
   "source": [
    "columns =\\\n",
    "    [\"TPO_DOCTO\", \"ADU\", \"FORM\", \"FECVENCI\", \"CODCOMUN\", \"NUM_UNICO_IMPORTADOR\",\n",
    "     \"CODPAISCON\", \"DESDIRALM\", \"CODCOMRS\", \"ADUCTROL\", \"NUMPLAZO\",\n",
    "     \"INDPARCIAL\", \"NUMHOJINS\", \"TOTINSUM\", \"CODALMA\", \"NUM_RS\", \"FEC_RS\",\n",
    "     \"ADUA_RS\", \"NUMHOJANE\", \"NUM_SEC\", \"PA_ORIG\", \"PA_ADQ\", \"VIA_TRAN\",\n",
    "     \"TRANSB\", \"PTO_EMB\", \"PTO_DESEM\", \"TPO_CARGA\", \"ALMACEN\", \"FEC_ALMAC\",\n",
    "     \"FECRETIRO\", \"NU_REGR\", \"ANO_REG\", \"CODVISBUEN\", \"NUMREGLA\", \"NUMANORES\",\n",
    "     \"CODULTVB\", \"PAGO_GRAV\", \"FECTRA\", \"FECACEP\", \"GNOM_CIA_T\", \"CODPAISCIA\",\n",
    "     \"NUMRUTCIA\", \"DIGVERCIA\", \"NUM_MANIF\", \"NUM_MANIF1\", \"NUM_MANIF2\",\n",
    "     \"FEC_MANIF\", \"NUM_CONOC\", \"FEC_CONOC\", \"NOMEMISOR\", \"NUMRUTEMI\",\n",
    "     \"DIGVEREMI\", \"GREG_IMP\", \"REG_IMP\", \"BCO_COM\", \"CODORDIV\", \"FORM_PAGO\",\n",
    "     \"NUMDIAS\", \"VALEXFAB\", \"MONEDA\", \"MONGASFOB\", \"CL_COMPRA\", \"TOT_ITEMS\",\n",
    "     \"FOB\", \"TOT_HOJAS\", \"COD_FLE\", \"FLETE\", \"TOT_BULTOS\", \"COD_SEG\", \"SEGURO\",\n",
    "     \"TOT_PESO\", \"CIF\", \"NUM_AUT\", \"FEC_AUT\", \"GBCOCEN\", \"ID_BULTOS\",\n",
    "     \"TPO_BUL1\", \"CANT_BUL1\", \"TPO_BUL2\", \"CANT_BUL2\", \"TPO_BUL3\", \"CANT_BUL3\",\n",
    "     \"TPO_BUL4\", \"CANT_BUL4\", \"TPO_BUL5\", \"CANT_BUL5\", \"TPO_BUL6\", \"CANT_BUL6\",\n",
    "     \"TPO_BUL7\", \"CANT_BUL7\", \"TPO_BUL8\", \"CANT_BUL8\", \"CTA_OTRO\", \"MON_OTRO\",\n",
    "     \"CTA_OTR1\", \"MON_OTR1\", \"CTA_OTR2\", \"MON_OTR2\", \"CTA_OTR3\", \"MON_OTR3\",\n",
    "     \"CTA_OTR4\", \"MON_OTR4\", \"CTA_OTR5\", \"MON_OTR5\", \"CTA_OTR6\", \"MON_OTR6\",\n",
    "     \"CTA_OTR7\", \"MON_OTR7\", \"MON_178\", \"MON_191\", \"FEC_501\", \"VAL_601\",\n",
    "     \"FEC_502\", \"VAL_602\", \"FEC_503\", \"VAL_603\", \"FEC_504\", \"VAL_604\",\n",
    "     \"FEC_505\", \"VAL_605\", \"FEC_506\", \"VAL_606\", \"FEC_507\", \"VAL_607\", \"TASA\",\n",
    "     \"NCUOTAS\", \"ADU_DI\", \"NUM_DI\", \"FEC_DI\", \"MON_699\", \"MON_199\", \"NUMITEM\",\n",
    "     \"DNOMBRE\", \"DMARCA\", \"DVARIEDAD\", \"DOTRO1\", \"DOTRO2\", \"ATR_5\", \"ATR_6\",\n",
    "     \"SAJU_ITEM\", \"AJU_ITEM\", \"CANT_MERC\", \"MERMAS\", \"MEDIDA\", \"PRE_UNIT\",\n",
    "     \"ARANC_ALA\", \"NUMCOR\", \"NUMACU\", \"CODOBS1\", \"DESOBS1\", \"CODOBS2\",\n",
    "     \"DESOBS2\", \"CODOBS3\", \"DESOBS3\", \"CODOBS4\", \"DESOBS4\", \"ARANC_NAC\",\n",
    "     \"CIF_ITEM\", \"ADVAL_ALA\", \"ADVAL\", \"VALAD\", \"OTRO1\", \"CTA1\", \"SIGVAL1\",\n",
    "     \"VAL1\", \"OTRO2\", \"CTA2\", \"SIGVAL2\", \"VAL2\", \"OTRO3\", \"CTA3\", \"SIGVAL3\",\n",
    "     \"VAL3\", \"OTRO4\", \"CTA4\", \"SIGVAL4\", \"VAL4\"]"
   ]
  },
  {
   "cell_type": "markdown",
   "metadata": {},
   "source": [
    "Señalamos que años y meses queremos filtrar"
   ]
  },
  {
   "cell_type": "code",
   "execution_count": 3,
   "metadata": {
    "collapsed": true
   },
   "outputs": [],
   "source": [
    "file_to_filter = {\n",
    "    \"2011\": [\"01 - Enero\", \"02 - Febrero\", \"03 - Marzo\", \"04 - Abril\", \"05 - Mayo\", \"06 - Junio\",\n",
    "             \"07 - Julio\", \"08 - Agosto\", \"09 - Septiembre\", \"10 - Octubre\", \"11 - Noviembre\", \"12 - Diciembre\"],\n",
    "    \"2012\": [\"01 - Enero\", \"02 - Febrero\", \"03 - Marzo\", \"04 - Abril\", \"05 - Mayo\", \"06 - Junio\",\n",
    "             \"07 - Julio\", \"08 - Agosto\", \"09 - Septiembre\", \"10 - Octubre\", \"11 - Noviembre\", \"12 - Diciembre\"],\n",
    "    \"2013\": [\"01 - Enero\", \"02 - Febrero\", \"03 - Marzo\", \"04 - Abril\", \"05 - Mayo\", \"06 - Junio\",\n",
    "             \"07 - Julio\", \"08 - Agosto\", \"09 - Septiembre\", \"10 - Octubre\", \"11 - Noviembre\", \"12 - Diciembre\"],\n",
    "    \"2014\": [\"01 - Enero\", \"02 - Febrero\", \"03 - Marzo\", \"04 - Abril\", \"05 - Mayo\", \"06 - Junio\",\n",
    "             \"07 - Julio\", \"08 - Agosto\", \"09 - Septiembre\", \"10 - Octubre\", \"11 - Noviembre\", \"12 - Diciembre\"],\n",
    "    \"2015\": [\"01 - Enero\", \"02 - Febrero\", \"03 - Marzo\", \"04 - Abril\", \"05 - Mayo\", \"06 - Junio\",\n",
    "             \"07 - Julio\", \"08 - Agosto\", \"09 - Septiembre\", \"10 - Octubre\", \"11 - Noviembre\", \"12 - Diciembre\"],\n",
    "    \"2016\": [\"01 - Enero\", \"02 - Febrero\", \"03 - Marzo\", \"04 - Abril\", \"05 - Mayo\", \"06 - Junio\",\n",
    "             \"07 - Julio\", \"08 - Agosto\", \"09 - Septiembre\", \"10 - Octubre\", \"11 - Noviembre\", \"12 - Diciembre\"],\n",
    "    \"2017\": [\"01 - Enero\", \"02 - Febrero\", \"03 - Marzo\", \"04 - Abril\", \"05 - Mayo\"]\n",
    "}"
   ]
  },
  {
   "cell_type": "markdown",
   "metadata": {},
   "source": [
    "Creamos la funcion para filtrar los datos según el arancel y los escribe en el archivo"
   ]
  },
  {
   "cell_type": "code",
   "execution_count": 4,
   "metadata": {
    "collapsed": true
   },
   "outputs": [],
   "source": [
    "def filter_import_file(lines, file):\n",
    "    for index, row in lines.iterrows():\n",
    "        aranc_ala = row[\"ARANC_ALA\"]\n",
    "        aranc_nac = row[\"ARANC_NAC\"]\n",
    "\n",
    "        if 6000000 <= aranc_ala <= 6999999 and 6000000 <= aranc_nac <= 6999999:\n",
    "\n",
    "            file.write(\";\".join([str(_) for _ in row]) + \"\\n\")"
   ]
  },
  {
   "cell_type": "markdown",
   "metadata": {},
   "source": [
    "Creamos la carpeta donde guardaremos los nuevos archivos filtrados y la carpeta especifica para guardar los datos importados, para eso primero necesitamos el directorio de trabajo (Working directory)"
   ]
  },
  {
   "cell_type": "code",
   "execution_count": 5,
   "metadata": {
    "collapsed": true
   },
   "outputs": [],
   "source": [
    "# Working directory\n",
    "cwd = os.getcwd()\n",
    "\n",
    "# Create filter folder\n",
    "if not os.path.exists(cwd + os.sep + \"Filter_Data\"):\n",
    "    os.makedirs(cwd + os.sep + \"Filter_Data\")\n",
    "\n",
    "# Create import folder\n",
    "if not os.path.exists(cwd + os.sep + \"Filter_Data\" + os.sep + \"import\"):\n",
    "    os.makedirs(cwd + os.sep + \"Filter_Data\" + os.sep + \"import\")"
   ]
  },
  {
   "cell_type": "markdown",
   "metadata": {},
   "source": [
    "Filtramos los archivos de importacion, para eso se recorre año a año los archivos y se pasa por la funcion filtradora (`filter_file`) la cual va guardando las lineas que cumplen el requisito en el nuevo archivo filtrado. Cada vez que se encuentra con un nuevo año, crea una nueva carpeta en `Filter_Data` para guardar los archivos ahí\n",
    "\n",
    "En esta parte utilizamos el argumento chunksize de pandas para ir leyendo el archivo por partes (10 ^ 3 lineas en este caso) y así no llenar la ram con todo el archivo cargado."
   ]
  },
  {
   "cell_type": "code",
   "execution_count": 6,
   "metadata": {},
   "outputs": [
    {
     "name": "stdout",
     "output_type": "stream",
     "text": [
      "Import filtered\n"
     ]
    }
   ],
   "source": [
    "chunksize = 10 ** 3\n",
    "\n",
    "# Import data\n",
    "read_path = cwd + os.sep + \"Original_Data\" + os.sep + \"import\"\n",
    "write_path = cwd + os.sep + \"Filter_Data\" + os.sep + \"import\"\n",
    "\n",
    "for year, files in file_to_filter.items():\n",
    "    for file in files:\n",
    "        archive = file + \".txt\"\n",
    "        filename = read_path + os.sep + year + os.sep + archive\n",
    "        filename_out = write_path + os.sep + year + os.sep + archive\n",
    "\n",
    "        if not os.path.exists(write_path + os.sep + year):\n",
    "            os.makedirs(write_path + os.sep + year)\n",
    "\n",
    "        with open(filename_out, \"w\") as new_file:\n",
    "            for chunk in pd.read_csv(filename, chunksize=chunksize,\n",
    "                                     names=columns, header=None,\n",
    "                                     sep=\";\", encoding=\"latin1\"):\n",
    "                filter_import_file(chunk, new_file)\n",
    "\n",
    "print(\"Import filtered\")"
   ]
  }
 ],
 "metadata": {
  "kernelspec": {
   "display_name": "Python 3",
   "language": "python",
   "name": "python3"
  },
  "language_info": {
   "codemirror_mode": {
    "name": "ipython",
    "version": 3
   },
   "file_extension": ".py",
   "mimetype": "text/x-python",
   "name": "python",
   "nbconvert_exporter": "python",
   "pygments_lexer": "ipython3",
   "version": "3.6.1"
  }
 },
 "nbformat": 4,
 "nbformat_minor": 2
}
