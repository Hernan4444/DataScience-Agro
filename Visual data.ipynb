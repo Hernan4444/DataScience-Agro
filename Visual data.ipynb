{
 "cells": [
  {
   "cell_type": "markdown",
   "metadata": {},
   "source": [
    "# Visualize Data"
   ]
  },
  {
   "cell_type": "code",
   "execution_count": 1,
   "metadata": {
    "collapsed": true
   },
   "outputs": [],
   "source": [
    "import os\n",
    "import pandas as pd\n",
    "import csv\n",
    "import numpy as np\n",
    "import seaborn as sns\n",
    "import matplotlib.pyplot as plt"
   ]
  },
  {
   "cell_type": "markdown",
   "metadata": {},
   "source": [
    "Generamos una lista con todas las columnas de los archivos a analizar."
   ]
  },
  {
   "cell_type": "code",
   "execution_count": 2,
   "metadata": {
    "collapsed": true
   },
   "outputs": [],
   "source": [
    "columns_export =\\\n",
    "    [\"FECHAACEPT\", \"NUMEROIDENT\", \"ADUANA\", \"TIPOOPERACION\",\n",
    "     \"CODIGORUTEXPORTADORPPAL\", \"NRO_EXPORTADOR\",\n",
    "     \"PORCENTAJEEXPPPAL\", \"COMUNAEXPORTADORPPAL\", \"CODIGORUTEXPSEC\",\n",
    "     \"NRO_EXPORTADOR_SEC\", \"PORCENTAJEEXPSECUNDARIO\",\n",
    "     \"COMUNAEXPSECUNDARIO\", \"PUERTOEMB\", \"GLOSAPUERTOEMB\",\n",
    "     \"REGIONORIGEN\", \"TIPOCARGA\", \"VIATRANSPORTE\", \"PUERTODESEMB\",\n",
    "     \"GLOSAPUERTODESEMB\", \"PAISDESTINO\", \"GLOSAPAISDESTINO\",\n",
    "     \"NOMBRECIATRANSP\", \"PAISCIATRANSP\", \"RUTCIATRANSP\",\n",
    "     \"DVRUTCIATRANSP\", \"NOMBREEMISORDOCTRANSP\", \"RUTEMISOR\",\n",
    "     \"DVRUTEMISOR\", \"CODIGOTIPOAUTORIZA\", \"NUMEROINFORMEEXPO\",\n",
    "     \"DVNUMEROINFORMEEXP\", \"FECHAINFORMEEXP\", \"MONEDA\",\n",
    "     \"MODALIDADVENTA\", \"CLAUSULAVENTA\", \"FORMAPAGO\",\n",
    "     \"VALORCLAUSULAVENTA\", \"COMISIONESEXTERIOR\", \"OTROSGASTOS\",\n",
    "     \"VALORLIQUIDORETORNO\", \"NUMEROREGSUSP\", \"ADUANAREGSUSP\",\n",
    "     \"PLAZOVIGENCIAREGSUSP\", \"TOTALITEM\", \"TOTALBULTOS\",\n",
    "     \"PESOBRUTOTOTAL\", \"TOTALVALORFOB\", \"VALORFLETE\", \"CODIGOFLETE\",\n",
    "     \"VALORSEGURO\", \"CODIGOSEG\", \"VALORCIF\", \"NUMEROPARCIALIDAD\",\n",
    "     \"TOTALPARCIALES\", \"PARCIAL\", \"OBSERVACION\",\n",
    "     \"NUMERODOCTOCANCELA\", \"FECHADOCTOCANCELA\", \"TIPODOCTOCANCELA\",\n",
    "     \"PESOBRUTOCANCELA\", \"TOTALBULTOSCANCELA\", \"NUMEROITEM\",\n",
    "     \"NOMBRE\", \"ATRIBUTO1\", \"ATRIBUTO2\", \"ATRIBUTO3\", \"ATRIBUTO4\",\n",
    "     \"ATRIBUTO5\", \"ATRIBUTO6\", \"CODIGOARANCEL\", \"UNIDADMEDIDA\",\n",
    "     \"CANTIDADMERCANCIA\", \"FOBUNITARIO\", \"FOBUS\",\n",
    "     \"CODIGOOBSERVACION1\", \"VALOROBSERVACION1\", \"GLOSAOBSERVACION1\",\n",
    "     \"CODIGOOBSERVACION2\", \"VALOROBSERVACION2\", \"GLOSAOBSERVACION2\",\n",
    "     \"CODIGOOBSERVACION3\", \"VALOROBSERVACION3\", \"GLOSAOBSERVACION3\",\n",
    "     \"PESOBRUTOITEM\", \"FECHAACEPTPACKAGE\", \"NUMEROBULTO\",\n",
    "     \"TIPOBULTO\", \"CANTIDADBULTO\", \"IDENTIFICACIONBULTO\",\n",
    "     \"FECHAACEPTTRANSPORT\", \"NSECDOCTRANSP\",\n",
    "     \"NUMERODOCTRANSP\", \"FECHADOCTRANSP\", \"NOMBRENAVE\",\n",
    "     \"NUMEROVIAJE\"]\n",
    "    \n",
    "columns_import =\\\n",
    "    [\"TPO_DOCTO\", \"ADU\", \"FORM\", \"FECVENCI\", \"CODCOMUN\", \"NUM_UNICO_IMPORTADOR\",\n",
    "     \"CODPAISCON\", \"DESDIRALM\", \"CODCOMRS\", \"ADUCTROL\", \"NUMPLAZO\",\n",
    "     \"INDPARCIAL\", \"NUMHOJINS\", \"TOTINSUM\", \"CODALMA\", \"NUM_RS\", \"FEC_RS\",\n",
    "     \"ADUA_RS\", \"NUMHOJANE\", \"NUM_SEC\", \"PA_ORIG\", \"PA_ADQ\", \"VIA_TRAN\",\n",
    "     \"TRANSB\", \"PTO_EMB\", \"PTO_DESEM\", \"TPO_CARGA\", \"ALMACEN\", \"FEC_ALMAC\",\n",
    "     \"FECRETIRO\", \"NU_REGR\", \"ANO_REG\", \"CODVISBUEN\", \"NUMREGLA\", \"NUMANORES\",\n",
    "     \"CODULTVB\", \"PAGO_GRAV\", \"FECTRA\", \"FECACEP\", \"GNOM_CIA_T\", \"CODPAISCIA\",\n",
    "     \"NUMRUTCIA\", \"DIGVERCIA\", \"NUM_MANIF\", \"NUM_MANIF1\", \"NUM_MANIF2\",\n",
    "     \"FEC_MANIF\", \"NUM_CONOC\", \"FEC_CONOC\", \"NOMEMISOR\", \"NUMRUTEMI\",\n",
    "     \"DIGVEREMI\", \"GREG_IMP\", \"REG_IMP\", \"BCO_COM\", \"CODORDIV\", \"FORM_PAGO\",\n",
    "     \"NUMDIAS\", \"VALEXFAB\", \"MONEDA\", \"MONGASFOB\", \"CL_COMPRA\", \"TOT_ITEMS\",\n",
    "     \"FOB\", \"TOT_HOJAS\", \"COD_FLE\", \"FLETE\", \"TOT_BULTOS\", \"COD_SEG\", \"SEGURO\",\n",
    "     \"TOT_PESO\", \"CIF\", \"NUM_AUT\", \"FEC_AUT\", \"GBCOCEN\", \"ID_BULTOS\",\n",
    "     \"TPO_BUL1\", \"CANT_BUL1\", \"TPO_BUL2\", \"CANT_BUL2\", \"TPO_BUL3\", \"CANT_BUL3\",\n",
    "     \"TPO_BUL4\", \"CANT_BUL4\", \"TPO_BUL5\", \"CANT_BUL5\", \"TPO_BUL6\", \"CANT_BUL6\",\n",
    "     \"TPO_BUL7\", \"CANT_BUL7\", \"TPO_BUL8\", \"CANT_BUL8\", \"CTA_OTRO\", \"MON_OTRO\",\n",
    "     \"CTA_OTR1\", \"MON_OTR1\", \"CTA_OTR2\", \"MON_OTR2\", \"CTA_OTR3\", \"MON_OTR3\",\n",
    "     \"CTA_OTR4\", \"MON_OTR4\", \"CTA_OTR5\", \"MON_OTR5\", \"CTA_OTR6\", \"MON_OTR6\",\n",
    "     \"CTA_OTR7\", \"MON_OTR7\", \"MON_178\", \"MON_191\", \"FEC_501\", \"VAL_601\",\n",
    "     \"FEC_502\", \"VAL_602\", \"FEC_503\", \"VAL_603\", \"FEC_504\", \"VAL_604\",\n",
    "     \"FEC_505\", \"VAL_605\", \"FEC_506\", \"VAL_606\", \"FEC_507\", \"VAL_607\", \"TASA\",\n",
    "     \"NCUOTAS\", \"ADU_DI\", \"NUM_DI\", \"FEC_DI\", \"MON_699\", \"MON_199\", \"NUMITEM\",\n",
    "     \"DNOMBRE\", \"DMARCA\", \"DVARIEDAD\", \"DOTRO1\", \"DOTRO2\", \"ATR_5\", \"ATR_6\",\n",
    "     \"SAJU_ITEM\", \"AJU_ITEM\", \"CANT_MERC\", \"MERMAS\", \"MEDIDA\", \"PRE_UNIT\",\n",
    "     \"ARANC_ALA\", \"NUMCOR\", \"NUMACU\", \"CODOBS1\", \"DESOBS1\", \"CODOBS2\",\n",
    "     \"DESOBS2\", \"CODOBS3\", \"DESOBS3\", \"CODOBS4\", \"DESOBS4\", \"ARANC_NAC\",\n",
    "     \"CIF_ITEM\", \"ADVAL_ALA\", \"ADVAL\", \"VALAD\", \"OTRO1\", \"CTA1\", \"SIGVAL1\",\n",
    "     \"VAL1\", \"OTRO2\", \"CTA2\", \"SIGVAL2\", \"VAL2\", \"OTRO3\", \"CTA3\", \"SIGVAL3\",\n",
    "     \"VAL3\", \"OTRO4\", \"CTA4\", \"SIGVAL4\", \"VAL4\"]"
   ]
  },
  {
   "cell_type": "code",
   "execution_count": null,
   "metadata": {},
   "outputs": [],
   "source": [
    "chunksize = 10 ** 3\n",
    "# Export data\n",
    "export_path = \"Filter_Data\" + os.sep + \"export\"\n",
    "import_path = \"Filter_Data\" + os.sep + \"import\"\n",
    "\n",
    "\n",
    "years = [\"2011\", \"2012\", \"2013\", \"2014\", \"2015\", \"2016\", \"2017\"]\n",
    "diferent_code = 0\n",
    "\n",
    "df = pd.DataFrame(columns = [\"Year-Month\", \"Importation\"])\n",
    "\n",
    "\n",
    "for year in years:\n",
    "    year_path = import_path + os.sep+ year\n",
    "    for month in os.listdir(year_path):\n",
    "        filename = year_path + os.sep + month\n",
    "        \n",
    "        number = 0\n",
    "        for chunk in pd.read_csv(filename, chunksize=chunksize,\n",
    "                                 names=columns_import, header=None,\n",
    "                                 sep=\";\", encoding=\"latin1\",\n",
    "                                 quoting=csv.QUOTE_NONE,\n",
    "                                 usecols = [\"ARANC_NAC\", \"ARANC_ALA\"]):\n",
    "            \n",
    "            for index, row in chunk.iterrows():\n",
    "                aranc_ala = row[\"ARANC_ALA\"]\n",
    "                aranc_nac = row[\"ARANC_NAC\"]\n",
    "                if aranc_ala != aranc_nac:\n",
    "                    diferent_code += 1\n",
    "                \n",
    "            number += chunk.shape[0]\n",
    "        \n",
    "        df = df.append(pd.Series([\"{} - {}\".format(year, month[:2]), number], \n",
    "                                 index=[\"Year-Month\", \"Importation\"]),\n",
    "                       ignore_index=True,)\n",
    "\n",
    "\n",
    "print(\"Hay {} productos con codigo arancel Aladi y codigo arancel armonizado diferentes\".format(diferent_code))\n",
    "\n",
    "\n",
    "# Plot the total crashes\n",
    "sns.set_color_codes(\"pastel\")\n",
    "barplot = sns.barplot(x=\"Importation\", y=\"Year-Month\", data=df)\n",
    "\n",
    "# Add a legend and informative axis label\n",
    "sns.despine(left=True, bottom=True)\n",
    "barplot.set(xlabel='N° Importation', ylabel='Month')\n",
    "barplot.set_title('N° Importation per  Month')\n",
    "\n",
    "\n",
    "plt.show()"
   ]
  }
 ],
 "metadata": {
  "kernelspec": {
   "display_name": "Python 3",
   "language": "python",
   "name": "python3"
  },
  "language_info": {
   "codemirror_mode": {
    "name": "ipython",
    "version": 3
   },
   "file_extension": ".py",
   "mimetype": "text/x-python",
   "name": "python",
   "nbconvert_exporter": "python",
   "pygments_lexer": "ipython3",
   "version": "3.6.1"
  }
 },
 "nbformat": 4,
 "nbformat_minor": 2
}
