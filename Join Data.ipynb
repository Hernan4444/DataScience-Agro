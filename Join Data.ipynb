{
 "cells": [
  {
   "cell_type": "markdown",
   "metadata": {},
   "source": [
    "# Join Import Data"
   ]
  },
  {
   "cell_type": "markdown",
   "metadata": {},
   "source": [
    "Para esta parte, es necesario tener los datos separados por año, mes y la exportacion con los complementes. Es decir, haber ejecutado previamente **Filter export data**, **Filter import data**, y **Complement export data**. "
   ]
  },
  {
   "cell_type": "code",
   "execution_count": 1,
   "metadata": {
    "collapsed": true
   },
   "outputs": [],
   "source": [
    "import os\n",
    "import pandas as pd\n",
    "import csv\n",
    "import json"
   ]
  },
  {
   "cell_type": "markdown",
   "metadata": {},
   "source": [
    "Generamos una lista con todas las columnas de los archivos a analizar."
   ]
  },
  {
   "cell_type": "code",
   "execution_count": 2,
   "metadata": {
    "collapsed": true
   },
   "outputs": [],
   "source": [
    "with open(\"csv_columns.json\") as file:\n",
    "    columns = json.load(file)\n",
    "\n",
    "columns_import = columns[\"columns_import_without_join\"]\n",
    "columns_export = columns[\"columns_export_without_join\"]"
   ]
  },
  {
   "cell_type": "markdown",
   "metadata": {},
   "source": [
    "Creamos la carpeta donde guardaremos los nuevos archivos unidos, para eso primero necesitamos el directorio de trabajo (Working directory)"
   ]
  },
  {
   "cell_type": "code",
   "execution_count": 3,
   "metadata": {
    "collapsed": true
   },
   "outputs": [],
   "source": [
    "# Working directory\n",
    "cwd = os.getcwd()\n",
    "\n",
    "# Create filter folder\n",
    "if not os.path.exists(cwd + os.sep + \"Join_Filter_Data\"):\n",
    "    os.makedirs(cwd + os.sep + \"Join_Filter_Data\")\n",
    "\n",
    "# Create import folder\n",
    "if not os.path.exists(cwd + os.sep + \"Join_Filter_Data\" + os.sep + \"import\"):\n",
    "    os.makedirs(cwd + os.sep + \"Join_Filter_Data\" + os.sep + \"import\")\n",
    "    \n",
    "    \n",
    "# Create export folder\n",
    "if not os.path.exists(cwd + os.sep + \"Join_Filter_Data\" + os.sep + \"export\"):\n",
    "    os.makedirs(cwd + os.sep + \"Join_Filter_Data\" + os.sep + \"export\")"
   ]
  },
  {
   "cell_type": "markdown",
   "metadata": {},
   "source": [
    "Unimos la información"
   ]
  },
  {
   "cell_type": "code",
   "execution_count": 6,
   "metadata": {},
   "outputs": [
    {
     "name": "stdout",
     "output_type": "stream",
     "text": [
      "Import join\n",
      "Export join\n"
     ]
    }
   ],
   "source": [
    "# Import data\n",
    "read_path = cwd + os.sep + \"Filter_Data\" + os.sep + \"import\"\n",
    "write_path = cwd + os.sep + \"Join_Filter_Data\" + os.sep + \"import\"\n",
    "\n",
    "total_data = []\n",
    "for year in os.listdir(read_path):\n",
    "    year_path = read_path + os.sep + year\n",
    "    filename_out = write_path + os.sep + year + \".txt\"\n",
    "    \n",
    "    df_from_each_month = []\n",
    "    \n",
    "    for month in os.listdir(year_path):\n",
    "        filename = year_path + os.sep + month\n",
    "        \n",
    "        csv_file = pd.read_csv(filename, names=columns_import,\n",
    "                               header=None, sep=\";\", encoding=\"latin1\",\n",
    "                               quoting=csv.QUOTE_NONE)\n",
    "        \n",
    "        csv_file[\"YEAR\"] = [year for _ in range(csv_file.shape[0])]\n",
    "        csv_file[\"MONTH\"] = [month[:2] for _ in range(csv_file.shape[0])]\n",
    "        \n",
    "        df_from_each_month.append(csv_file)\n",
    "        total_data.append(csv_file)\n",
    "            \n",
    "    year_df = pd.concat(df_from_each_month, ignore_index=True)    \n",
    "    year_df.to_csv(filename_out, sep=\";\", encoding=\"latin1\", header=True,\n",
    "                   index=False, quoting=csv.QUOTE_NONE)\n",
    "all_df = pd.concat(total_data, ignore_index=True)    \n",
    "all_df.to_csv(write_path + os.sep + \"all_import.txt\", sep=\";\", encoding=\"latin1\",\n",
    "               index=False, quoting=csv.QUOTE_NONE)\n",
    "    \n",
    "print(\"Import join\")\n",
    "\n",
    "\n",
    "# Export data\n",
    "read_path = cwd + os.sep + \"Filter_Data\" + os.sep + \"export\"\n",
    "write_path = cwd + os.sep + \"Join_Filter_Data\" + os.sep + \"export\"\n",
    "\n",
    "total_data = []\n",
    "for year in os.listdir(read_path):\n",
    "    year_path = read_path + os.sep + year\n",
    "    filename_out = write_path + os.sep + year + \".txt\"\n",
    "    \n",
    "    df_from_each_month = []\n",
    "    \n",
    "    for month in os.listdir(year_path):\n",
    "        filename = year_path + os.sep + month\n",
    "        \n",
    "        csv_file = pd.read_csv(filename, names=columns_export,\n",
    "                               header=None, sep=\";\", encoding=\"latin1\",\n",
    "                               quoting=csv.QUOTE_NONE)\n",
    "        \n",
    "        csv_file[\"YEAR\"] = [year for _ in range(csv_file.shape[0])]\n",
    "        csv_file[\"MONTH\"] = [month[:2] for _ in range(csv_file.shape[0])]\n",
    "        \n",
    "        df_from_each_month.append(csv_file)\n",
    "        total_data.append(csv_file)\n",
    "            \n",
    "    year_df = pd.concat(df_from_each_month, ignore_index=True)    \n",
    "    year_df.to_csv(filename_out, sep=\";\", encoding=\"latin1\", header=True,\n",
    "                   index=False, quoting=csv.QUOTE_NONE)\n",
    "all_df = pd.concat(total_data, ignore_index=True)    \n",
    "all_df.to_csv(write_path + os.sep + \"all_export.txt\", sep=\";\", encoding=\"latin1\",\n",
    "               index=False, quoting=csv.QUOTE_NONE)\n",
    "\n",
    "    \n",
    "print(\"Export join\")"
   ]
  }
 ],
 "metadata": {
  "kernelspec": {
   "display_name": "Python 3",
   "language": "python",
   "name": "python3"
  },
  "language_info": {
   "codemirror_mode": {
    "name": "ipython",
    "version": 3
   },
   "file_extension": ".py",
   "mimetype": "text/x-python",
   "name": "python",
   "nbconvert_exporter": "python",
   "pygments_lexer": "ipython3",
   "version": "3.6.1"
  }
 },
 "nbformat": 4,
 "nbformat_minor": 2
}
