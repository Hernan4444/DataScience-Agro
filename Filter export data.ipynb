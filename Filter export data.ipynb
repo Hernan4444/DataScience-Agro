{
 "cells": [
  {
   "cell_type": "markdown",
   "metadata": {},
   "source": [
    "# Filter Export Data"
   ]
  },
  {
   "cell_type": "code",
   "execution_count": 10,
   "metadata": {
    "collapsed": true
   },
   "outputs": [],
   "source": [
    "import os\n",
    "import pandas as pd\n",
    "import csv"
   ]
  },
  {
   "cell_type": "markdown",
   "metadata": {},
   "source": [
    "Obtenemos el directorio de trabajo y creamos una lista con todas las columnas de los archivos a analizar."
   ]
  },
  {
   "cell_type": "code",
   "execution_count": 11,
   "metadata": {
    "collapsed": true
   },
   "outputs": [],
   "source": [
    "columns =\\\n",
    "    [\"FECHAACEPT\", \"NUMEROIDENT\", \"ADUANA\", \"TIPOOPERACION\",\n",
    "     \"CODIGORUTEXPORTADORPPAL\", \"NRO_EXPORTADOR\",\n",
    "     \"PORCENTAJEEXPPPAL\", \"COMUNAEXPORTADORPPAL\", \"CODIGORUTEXPSEC\",\n",
    "     \"NRO_EXPORTADOR_SEC\", \"PORCENTAJEEXPSECUNDARIO\",\n",
    "     \"COMUNAEXPSECUNDARIO\", \"PUERTOEMB\", \"GLOSAPUERTOEMB\",\n",
    "     \"REGIONORIGEN\", \"TIPOCARGA\", \"VIATRANSPORTE\", \"PUERTODESEMB\",\n",
    "     \"GLOSAPUERTODESEMB\", \"PAISDESTINO\", \"GLOSAPAISDESTINO\",\n",
    "     \"NOMBRECIATRANSP\", \"PAISCIATRANSP\", \"RUTCIATRANSP\",\n",
    "     \"DVRUTCIATRANSP\", \"NOMBREEMISORDOCTRANSP\", \"RUTEMISOR\",\n",
    "     \"DVRUTEMISOR\", \"CODIGOTIPOAUTORIZA\", \"NUMEROINFORMEEXPO\",\n",
    "     \"DVNUMEROINFORMEEXP\", \"FECHAINFORMEEXP\", \"MONEDA\",\n",
    "     \"MODALIDADVENTA\", \"CLAUSULAVENTA\", \"FORMAPAGO\",\n",
    "     \"VALORCLAUSULAVENTA\", \"COMISIONESEXTERIOR\", \"OTROSGASTOS\",\n",
    "     \"VALORLIQUIDORETORNO\", \"NUMEROREGSUSP\", \"ADUANAREGSUSP\",\n",
    "     \"PLAZOVIGENCIAREGSUSP\", \"TOTALITEM\", \"TOTALBULTOS\",\n",
    "     \"PESOBRUTOTOTAL\", \"TOTALVALORFOB\", \"VALORFLETE\", \"CODIGOFLETE\",\n",
    "     \"VALORSEGURO\", \"CODIGOSEG\", \"VALORCIF\", \"NUMEROPARCIALIDAD\",\n",
    "     \"TOTALPARCIALES\", \"PARCIAL\", \"OBSERVACION\",\n",
    "     \"NUMERODOCTOCANCELA\", \"FECHADOCTOCANCELA\", \"TIPODOCTOCANCELA\",\n",
    "     \"PESOBRUTOCANCELA\", \"TOTALBULTOSCANCELA\", \"NUMEROITEM\",\n",
    "     \"NOMBRE\", \"ATRIBUTO1\", \"ATRIBUTO2\", \"ATRIBUTO3\", \"ATRIBUTO4\",\n",
    "     \"ATRIBUTO5\", \"ATRIBUTO6\", \"CODIGOARANCEL\", \"UNIDADMEDIDA\",\n",
    "     \"CANTIDADMERCANCIA\", \"FOBUNITARIO\", \"FOBUS\",\n",
    "     \"CODIGOOBSERVACION1\", \"VALOROBSERVACION1\", \"GLOSAOBSERVACION1\",\n",
    "     \"CODIGOOBSERVACION2\", \"VALOROBSERVACION2\", \"GLOSAOBSERVACION2\",\n",
    "     \"CODIGOOBSERVACION3\", \"VALOROBSERVACION3\", \"GLOSAOBSERVACION3\",\n",
    "     \"PESOBRUTOITEM\"]"
   ]
  },
  {
   "cell_type": "markdown",
   "metadata": {},
   "source": [
    "Señalamos que años y meses queremos filtrar"
   ]
  },
  {
   "cell_type": "code",
   "execution_count": 18,
   "metadata": {
    "collapsed": true
   },
   "outputs": [],
   "source": [
    "file_to_filter = {\n",
    "    \"2011\": [\"01 - Enero\", \"02 - Febrero\", \"03 - Marzo\", \"04 - Abril\", \"05 - Mayo\", \"06 - Junio\",\n",
    "             \"07 - Julio\", \"08 - Agosto\", \"09 - Septiembre\", \"10 - Octubre\", \"11 - Noviembre\", \"12 - Diciembre\"],\n",
    "    \"2012\": [\"01 - Enero\", \"02 - Febrero\", \"03 - Marzo\", \"04 - Abril\", \"05 - Mayo\", \"06 - Junio\",\n",
    "             \"07 - Julio\", \"08 - Agosto\", \"09 - Septiembre\", \"10 - Octubre\", \"11 - Noviembre\", \"12 - Diciembre\"],\n",
    "    \"2013\": [\"01 - Enero\", \"02 - Febrero\", \"03 - Marzo\", \"04 - Abril\", \"05 - Mayo\", \"06 - Junio\",\n",
    "             \"07 - Julio\", \"08 - Agosto\", \"09 - Septiembre\", \"10 - Octubre\", \"11 - Noviembre\", \"12 - Diciembre\"],\n",
    "    \"2014\": [\"01 - Enero\", \"02 - Febrero\", \"03 - Marzo\", \"04 - Abril\", \"05 - Mayo\", \"06 - Junio\",\n",
    "             \"07 - Julio\", \"08 - Agosto\", \"09 - Septiembre\", \"10 - Octubre\", \"11 - Noviembre\", \"12 - Diciembre\"],\n",
    "    \"2015\": [\"01 - Enero\", \"02 - Febrero\", \"03 - Marzo\", \"04 - Abril\", \"05 - Mayo\", \"06 - Junio\",\n",
    "             \"07 - Julio\", \"08 - Agosto\", \"09 - Septiembre\", \"10 - Octubre\", \"11 - Noviembre\", \"12 - Diciembre\"],\n",
    "    \"2016\": [\"01 - Enero\", \"02 - Febrero\", \"03 - Marzo\", \"04 - Abril\", \"05 - Mayo\", \"06 - Junio\",\n",
    "             \"07 - Julio\", \"08 - Agosto\", \"09 - Septiembre\", \"10 - Octubre\", \"11 - Noviembre\", \"12 - Diciembre\"],\n",
    "    \"2017\": [\"01 - Enero\", \"02 - Febrero\", \"03 - Marzo\", \"04 - Abril\", \"05 - Mayo\"]\n",
    "}"
   ]
  },
  {
   "cell_type": "markdown",
   "metadata": {},
   "source": [
    "Creamos la funcion para filtrar los datos según el arancel y los escribe en el archivo"
   ]
  },
  {
   "cell_type": "code",
   "execution_count": 13,
   "metadata": {
    "collapsed": true
   },
   "outputs": [],
   "source": [
    "def filter_export_file(lines, file):\n",
    "    for index, row in lines.iterrows():\n",
    "        aranc_ala = row[\"CODIGOARANCEL\"]\n",
    "\n",
    "        if 6000000 <= aranc_ala <= 69999999:\n",
    "            file.write(\";\".join([str(_) for _ in row]) + \"\\n\")"
   ]
  },
  {
   "cell_type": "markdown",
   "metadata": {},
   "source": [
    "Creamos la carpeta donde guardaremos los nuevos archivos filtrados y la carpeta especifica para guardar los datos importados"
   ]
  },
  {
   "cell_type": "code",
   "execution_count": 14,
   "metadata": {
    "collapsed": true
   },
   "outputs": [],
   "source": [
    "cwd = os.getcwd()\n",
    "\n",
    "# Create filter folder\n",
    "if not os.path.exists(cwd + os.sep + \"Filter_Data\"):\n",
    "    os.makedirs(cwd + os.sep + \"Filter_Data\")\n",
    "\n",
    "\n",
    "# Create import folder\n",
    "if not os.path.exists(cwd + os.sep + \"Filter_Data\" + os.sep + \"export\"):\n",
    "    os.makedirs(cwd + os.sep + \"Filter_Data\" + os.sep + \"export\")"
   ]
  },
  {
   "cell_type": "markdown",
   "metadata": {},
   "source": [
    "Filtramos los archivos de importacion, para eso se recorre año a año los archivos y se pasa por la funcion filtradora (`filter_file`) la cual va guardando las lineas que cumplen el requisito en el nuevo archivo filtrado. Cada vez que se encuentra con un nuevo año, crea una nueva carpeta en `Filter_Data` para guardar los archivos ahí\n",
    "\n",
    "En esta parte utilizamos el argumento chunksize de pandas para ir leyendo el archivo por partes (10 ^ 3 lineas en este caso) y así no llenar la ram con todo el archivo cargado."
   ]
  },
  {
   "cell_type": "code",
   "execution_count": 19,
   "metadata": {},
   "outputs": [
    {
     "name": "stdout",
     "output_type": "stream",
     "text": [
      "Export filtered\n"
     ]
    }
   ],
   "source": [
    "chunksize = 10 ** 3\n",
    "\n",
    "# Export data\n",
    "read_path = cwd + os.sep + \"Original_Data\" + os.sep + \"export\"\n",
    "write_path = cwd + os.sep + \"Filter_Data\" + os.sep + \"export\"\n",
    "\n",
    "for year, files in file_to_filter.items():\n",
    "    for file in files:\n",
    "        archive = file + \".txt\"\n",
    "        filename = read_path + os.sep + year + os.sep + archive\n",
    "        filename_out = write_path + os.sep + year + os.sep + archive\n",
    "\n",
    "        if not os.path.exists(write_path + os.sep + year):\n",
    "            os.makedirs(write_path + os.sep + year)\n",
    "\n",
    "        with open(filename_out, \"w\", encoding=\"latin1\") as new_file:\n",
    "            for chunk in pd.read_csv(filename, chunksize=chunksize,\n",
    "                                     names=columns, header=None,\n",
    "                                     sep=\";\", encoding=\"latin1\",\n",
    "                                     quoting=csv.QUOTE_NONE):\n",
    "                filter_export_file(chunk, new_file)\n",
    "\n",
    "print(\"Export filtered\")"
   ]
  }
 ],
 "metadata": {
  "kernelspec": {
   "display_name": "Python 3",
   "language": "python",
   "name": "python3"
  },
  "language_info": {
   "codemirror_mode": {
    "name": "ipython",
    "version": 3
   },
   "file_extension": ".py",
   "mimetype": "text/x-python",
   "name": "python",
   "nbconvert_exporter": "python",
   "pygments_lexer": "ipython3",
   "version": "3.6.1"
  }
 },
 "nbformat": 4,
 "nbformat_minor": 2
}
