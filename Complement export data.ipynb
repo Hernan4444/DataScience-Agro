{
 "cells": [
  {
   "cell_type": "markdown",
   "metadata": {},
   "source": [
    "# Complement Export Data"
   ]
  },
  {
   "cell_type": "code",
   "execution_count": 1,
   "metadata": {
    "collapsed": true
   },
   "outputs": [],
   "source": [
    "import os\n",
    "import pandas as pd"
   ]
  },
  {
   "cell_type": "markdown",
   "metadata": {},
   "source": [
    "Generamos una lista con todas las columnas de los archivos a analizar."
   ]
  },
  {
   "cell_type": "code",
   "execution_count": 6,
   "metadata": {
    "collapsed": true
   },
   "outputs": [],
   "source": [
    "columns_file = [ \"FECHAACEPT\", \"NUMEROIDENT\", \"ADUANA\", \"TIPOOPERACION\",\n",
    "                 \"CODIGORUTEXPORTADORPPAL\", \"NRO_EXPORTADOR\",\n",
    "                 \"PORCENTAJEEXPPPAL\", \"COMUNAEXPORTADORPPAL\", \"CODIGORUTEXPSEC\",\n",
    "                 \"NRO_EXPORTADOR_SEC\", \"PORCENTAJEEXPSECUNDARIO\",\n",
    "                 \"COMUNAEXPSECUNDARIO\", \"PUERTOEMB\", \"GLOSAPUERTOEMB\",\n",
    "                 \"REGIONORIGEN\", \"TIPOCARGA\", \"VIATRANSPORTE\", \"PUERTODESEMB\",\n",
    "                 \"GLOSAPUERTODESEMB\", \"PAISDESTINO\", \"GLOSAPAISDESTINO\",\n",
    "                 \"NOMBRECIATRANSP\", \"PAISCIATRANSP\", \"RUTCIATRANSP\",\n",
    "                 \"DVRUTCIATRANSP\", \"NOMBREEMISORDOCTRANSP\", \"RUTEMISOR\",\n",
    "                 \"DVRUTEMISOR\", \"CODIGOTIPOAUTORIZA\", \"NUMEROINFORMEEXPO\",\n",
    "                 \"DVNUMEROINFORMEEXP\", \"FECHAINFORMEEXP\", \"MONEDA\",\n",
    "                 \"MODALIDADVENTA\", \"CLAUSULAVENTA\", \"FORMAPAGO\",\n",
    "                 \"VALORCLAUSULAVENTA\", \"COMISIONESEXTERIOR\", \"OTROSGASTOS\",\n",
    "                 \"VALORLIQUIDORETORNO\", \"NUMEROREGSUSP\", \"ADUANAREGSUSP\",\n",
    "                 \"PLAZOVIGENCIAREGSUSP\", \"TOTALITEM\", \"TOTALBULTOS\",\n",
    "                 \"PESOBRUTOTOTAL\", \"TOTALVALORFOB\", \"VALORFLETE\", \"CODIGOFLETE\",\n",
    "                 \"VALORSEGURO\", \"CODIGOSEG\", \"VALORCIF\", \"NUMEROPARCIALIDAD\",\n",
    "                 \"TOTALPARCIALES\", \"PARCIAL\", \"OBSERVACION\",\n",
    "                 \"NUMERODOCTOCANCELA\", \"FECHADOCTOCANCELA\", \"TIPODOCTOCANCELA\",\n",
    "                 \"PESOBRUTOCANCELA\", \"TOTALBULTOSCANCELA\", \"NUMEROITEM\",\n",
    "                 \"NOMBRE\", \"ATRIBUTO1\", \"ATRIBUTO2\", \"ATRIBUTO3\", \"ATRIBUTO4\",\n",
    "                 \"ATRIBUTO5\", \"ATRIBUTO6\", \"CODIGOARANCEL\", \"UNIDADMEDIDA\",\n",
    "                 \"CANTIDADMERCANCIA\", \"FOBUNITARIO\", \"FOBUS\",\n",
    "                 \"CODIGOOBSERVACION1\", \"VALOROBSERVACION1\", \"GLOSAOBSERVACION1\",\n",
    "                 \"CODIGOOBSERVACION2\", \"VALOROBSERVACION2\", \"GLOSAOBSERVACION2\",\n",
    "                 \"CODIGOOBSERVACION3\", \"VALOROBSERVACION3\", \"GLOSAOBSERVACION3\",\n",
    "                 \"PESOBRUTOITEM\"]\n",
    "\n",
    "columns_bultos = [\"NUMEROIDENT\", \"FECHAACEPTPACKAGE\", \"NUMEROBULTO\", \"TIPOBULTO\",\n",
    "                 \"CANTIDADBULTO\", \"IDENTIFICACIONBULTO\"]\n",
    "\n",
    "columns_transporte = [ \"NUMEROIDENT\", \"FECHAACEPTTRANSPORT\", \"NSECDOCTRANSP\",\n",
    "                       \"NUMERODOCTRANSP\", \"FECHADOCTRANSP\", \"NOMBRENAVE\",\n",
    "                       \"NUMEROVIAJE\"]"
   ]
  },
  {
   "cell_type": "markdown",
   "metadata": {},
   "source": [
    "Señalamos que años y meses queremos complementar con los archivos de bultos y transporte"
   ]
  },
  {
   "cell_type": "code",
   "execution_count": 7,
   "metadata": {
    "collapsed": true
   },
   "outputs": [],
   "source": [
    "file_to_complement = {\n",
    "    \"2017\": [\"01 - Enero\"]\n",
    "}"
   ]
  },
  {
   "cell_type": "markdown",
   "metadata": {},
   "source": [
    "Complementamos los archivos de exportacion, para eso se recorre año a año los archivos ya filtrados y se hace un join con los archivos de bultos y complementos usando el numero de indentificacion como comparador para tener solo las columnas que nos interesa según el filtro aplicado anteriormente. Luego se sobreescribe el archivo filtrado por uno nuevo con las nuevas columnas\n"
   ]
  },
  {
   "cell_type": "code",
   "execution_count": 10,
   "metadata": {},
   "outputs": [
    {
     "name": "stdout",
     "output_type": "stream",
     "text": [
      "True True\n",
      "Complement Complete\n"
     ]
    }
   ],
   "source": [
    "cwd = os.getcwd()\n",
    "\n",
    "read_path = cwd + os.sep + \"Original_Data\" + os.sep + \"export_complement\"\n",
    "complement_path = cwd + os.sep + \"Filter_Data\" + os.sep + \"export\"\n",
    "\n",
    "for year, files in file_to_complement.items():\n",
    "    for file in files:\n",
    "        main_file = file + \".txt\"\n",
    "        bultos_file = file + \" Bultos.txt\"\n",
    "        transporte_file = file + \" Transporte.txt\"\n",
    "\n",
    "        bultos_filename = read_path + os.sep + year + os.sep + bultos_file\n",
    "        transporte_filename = read_path + os.sep + year + os.sep + transporte_file\n",
    "        main_filename = complement_path + os.sep + year + os.sep + main_file\n",
    "\n",
    "        bultos = pd.read_csv(bultos_filename, names=columns_bultos, header=None,\n",
    "                             sep=\";\", encoding=\"latin1\")\n",
    "\n",
    "        transporte = pd.read_csv(transporte_filename, names=columns_transporte,\n",
    "                                 header=None, sep=\";\", encoding=\"latin1\")\n",
    "\n",
    "        file = pd.read_csv(main_filename, names=columns_file, header=None,\n",
    "                           sep=\";\", encoding=\"latin1\")\n",
    "\n",
    "        final = pd.merge(file,\n",
    "                         pd.merge(bultos, transporte, on=\"NUMEROIDENT\"),\n",
    "                         on=\"NUMEROIDENT\")\n",
    "\n",
    "        final.to_csv(main_filename, sep=\";\", encoding=\"latin1\", header=None, index=False)\n",
    "                \n",
    "print(\"Complement Complete\")"
   ]
  }
 ],
 "metadata": {
  "kernelspec": {
   "display_name": "Python 3",
   "language": "python",
   "name": "python3"
  },
  "language_info": {
   "codemirror_mode": {
    "name": "ipython",
    "version": 3
   },
   "file_extension": ".py",
   "mimetype": "text/x-python",
   "name": "python",
   "nbconvert_exporter": "python",
   "pygments_lexer": "ipython3",
   "version": "3.6.1"
  }
 },
 "nbformat": 4,
 "nbformat_minor": 2
}
