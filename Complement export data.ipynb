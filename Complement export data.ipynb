{
 "cells": [
  {
   "cell_type": "markdown",
   "metadata": {},
   "source": [
    "# Complement Export Data"
   ]
  },
  {
   "cell_type": "code",
   "execution_count": 1,
   "metadata": {
    "collapsed": true
   },
   "outputs": [],
   "source": [
    "import os\n",
    "import pandas as pd\n",
    "import csv"
   ]
  },
  {
   "cell_type": "markdown",
   "metadata": {},
   "source": [
    "Generamos una lista con todas las columnas de los archivos a analizar."
   ]
  },
  {
   "cell_type": "code",
   "execution_count": 2,
   "metadata": {
    "collapsed": true
   },
   "outputs": [],
   "source": [
    "with open(\"csv_columns.json\") as file:\n",
    "    columns = json.load(file)\n",
    "\n",
    "columns_file = columns[\"columns_export_initial\"]\n",
    "\n",
    "columns_package = columns[\"columns_export_package\"]\n",
    "\n",
    "columns_transport = columns[\"columns_export_transport\"]"
   ]
  },
  {
   "cell_type": "markdown",
   "metadata": {},
   "source": [
    "Señalamos que años y meses queremos complementar con los archivos de bultos y transporte"
   ]
  },
  {
   "cell_type": "code",
   "execution_count": 3,
   "metadata": {
    "collapsed": true
   },
   "outputs": [],
   "source": [
    "file_to_complement = {\n",
    "    \"2011\": [\"01 - Enero\", \"02 - Febrero\", \"03 - Marzo\", \"04 - Abril\", \"05 - Mayo\", \"06 - Junio\",\n",
    "             \"07 - Julio\", \"08 - Agosto\", \"09 - Septiembre\", \"10 - Octubre\", \"11 - Noviembre\", \"12 - Diciembre\"],\n",
    "    \"2012\": [\"01 - Enero\", \"02 - Febrero\", \"03 - Marzo\", \"04 - Abril\", \"05 - Mayo\", \"06 - Junio\",\n",
    "             \"07 - Julio\", \"08 - Agosto\", \"09 - Septiembre\", \"10 - Octubre\", \"11 - Noviembre\", \"12 - Diciembre\"],\n",
    "    \"2013\": [\"01 - Enero\", \"02 - Febrero\", \"03 - Marzo\", \"04 - Abril\", \"05 - Mayo\", \"06 - Junio\",\n",
    "             \"07 - Julio\", \"08 - Agosto\", \"09 - Septiembre\", \"10 - Octubre\", \"11 - Noviembre\", \"12 - Diciembre\"],\n",
    "    \"2014\": [\"01 - Enero\", \"02 - Febrero\", \"03 - Marzo\", \"04 - Abril\", \"05 - Mayo\", \"06 - Junio\",\n",
    "             \"07 - Julio\", \"08 - Agosto\", \"09 - Septiembre\", \"10 - Octubre\", \"11 - Noviembre\", \"12 - Diciembre\"],\n",
    "    \"2015\": [\"01 - Enero\", \"02 - Febrero\", \"03 - Marzo\", \"04 - Abril\", \"05 - Mayo\", \"06 - Junio\",\n",
    "             \"07 - Julio\", \"08 - Agosto\", \"09 - Septiembre\", \"10 - Octubre\", \"11 - Noviembre\", \"12 - Diciembre\"],\n",
    "    \"2016\": [\"01 - Enero\", \"02 - Febrero\", \"03 - Marzo\", \"04 - Abril\", \"05 - Mayo\", \"06 - Junio\",\n",
    "             \"07 - Julio\", \"08 - Agosto\", \"09 - Septiembre\", \"10 - Octubre\", \"11 - Noviembre\", \"12 - Diciembre\"],\n",
    "    \"2017\": [\"01 - Enero\", \"02 - Febrero\", \"03 - Marzo\", \"04 - Abril\", \"05 - Mayo\"]\n",
    "}"
   ]
  },
  {
   "cell_type": "markdown",
   "metadata": {},
   "source": [
    "Complementamos los archivos de exportacion, para eso se recorre año a año los archivos ya filtrados y se hace un join con los archivos de bultos y complementos usando el numero de indentificacion como comparador para tener solo las columnas que nos interesa según el filtro aplicado anteriormente. Luego se sobreescribe el archivo filtrado por uno nuevo con las nuevas columnas\n"
   ]
  },
  {
   "cell_type": "code",
   "execution_count": 4,
   "metadata": {},
   "outputs": [
    {
     "name": "stdout",
     "output_type": "stream",
     "text": [
      "Complement Complete\n"
     ]
    }
   ],
   "source": [
    "cwd = os.getcwd()\n",
    "\n",
    "read_path = cwd + os.sep + \"Original_Data\" + os.sep + \"export_complement\"\n",
    "complement_path = cwd + os.sep + \"Filter_Data\" + os.sep + \"export\"\n",
    "\n",
    "for year, files in file_to_complement.items():\n",
    "    for file in files:\n",
    "        main_file = file + \".txt\"\n",
    "        packages_file = file + \" Bultos.txt\"\n",
    "        transport_file = file + \" Transporte.txt\"\n",
    "\n",
    "        packages_filename = read_path + os.sep + year + os.sep + packages_file\n",
    "        transport_filename = read_path + os.sep + year + os.sep + transport_file\n",
    "        main_filename = complement_path + os.sep + year + os.sep + main_file\n",
    "\n",
    "        bultos = pd.read_csv(packages_filename, names=columns_package,\n",
    "                             header=None, sep=\";\", encoding=\"latin1\",\n",
    "                             quoting=csv.QUOTE_NONE, dtype = object)\n",
    "\n",
    "        transporte = pd.read_csv(transport_filename, names=columns_transport,\n",
    "                                 header=None, sep=\";\", encoding=\"latin1\",\n",
    "                                 quoting=csv.QUOTE_NONE, dtype = object)\n",
    "\n",
    "        file = pd.read_csv(main_filename, names=columns_file, header=None,\n",
    "                           sep=\";\", encoding=\"latin1\",quoting=csv.QUOTE_NONE,\n",
    "                           dtype = object) \n",
    "\n",
    "        final = pd.merge(file,\n",
    "                         pd.merge(bultos, transporte, on=\"NUMEROIDENT\"),\n",
    "                         on=\"NUMEROIDENT\")\n",
    "\n",
    "        final.to_csv(main_filename, sep=\";\", encoding=\"latin1\", header=None,\n",
    "                     index=False, quoting=csv.QUOTE_NONE)\n",
    "\n",
    "print(\"Complement Complete\")"
   ]
  }
 ],
 "metadata": {
  "kernelspec": {
   "display_name": "Python 3",
   "language": "python",
   "name": "python3"
  },
  "language_info": {
   "codemirror_mode": {
    "name": "ipython",
    "version": 3
   },
   "file_extension": ".py",
   "mimetype": "text/x-python",
   "name": "python",
   "nbconvert_exporter": "python",
   "pygments_lexer": "ipython3",
   "version": "3.6.1"
  }
 },
 "nbformat": 4,
 "nbformat_minor": 2
}
