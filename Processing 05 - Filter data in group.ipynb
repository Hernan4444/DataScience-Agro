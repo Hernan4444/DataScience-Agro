{
 "cells": [
  {
   "cell_type": "markdown",
   "metadata": {},
   "source": [
    "# Filter Data in different group"
   ]
  },
  {
   "cell_type": "markdown",
   "metadata": {},
   "source": [
    "En este archivo se agruparan los datos en 5 diferentes grupos y aquellos que no pertenescan a estos grupos serán descartados.\n",
    "\n",
    "Los grupos son:\n",
    "\n",
    "| Grupo |              Descripcion |     Codigos Aranceles |\n",
    "|:-----:|-------------------------:|----------------------:|\n",
    "|   A   |             grupo bulbos |  - 6011000 al 6012090 |\n",
    "|   B   | grupo plantas o esquejes |             - 6022010 |\n",
    "|       |                          |  - 6023000 al 6029000 |\n",
    "|       |                          |  - 6029014 al 6029019 |\n",
    "|   C   |        cultivos in vitro |             - 6029051 |\n",
    "|       |                          |  - 6029055 al 6029090 |\n",
    "|   D   |           flores frescas |  - 6031100 al 6039000 |\n",
    "|   E   |                  follaje | - 6042010 al 6049000  |"
   ]
  },
  {
   "cell_type": "markdown",
   "metadata": {},
   "source": [
    "# Import"
   ]
  },
  {
   "cell_type": "code",
   "execution_count": 1,
   "metadata": {
    "collapsed": true
   },
   "outputs": [],
   "source": [
    "import pandas as pd\n",
    "import os\n",
    "import csv\n",
    "\n",
    "\n",
    "filename_read = \"data\" + os.sep + \"import\" + os.sep + \"all_import.txt\"\n",
    "filename_write = \"data\" + os.sep + \"import\" + os.sep + \"all_import_with_group.txt\"\n",
    "\n",
    "data = pd.read_csv(filename_read, sep=\";\", encoding=\"latin1\", quoting=csv.QUOTE_NONE, dtype = object)\n",
    "data[\"GROUP\"] = \"\"\n",
    "\n",
    "for index, row in data.iterrows():\n",
    "    aranc_nac = int(row[\"ARANC_NAC\"])\n",
    "    if 6011000 <= aranc_nac <= 6012090:\n",
    "        data.loc[index, \"GROUP\"] = \"A\"\n",
    "    elif aranc_nac == 6022010 or (6023000 <= aranc_nac <= 6029000) or (6029014 <= aranc_nac <= 6029019):\n",
    "        data.loc[index, \"GROUP\"] = \"B\"\n",
    "    elif aranc_nac == 6029051 or (6029055 <= aranc_nac <= 6029090):\n",
    "        data.loc[index, \"GROUP\"] = \"C\"\n",
    "    elif 6031100 <= aranc_nac <=  6039000:\n",
    "        data.loc[index, \"GROUP\"] = \"D\"\n",
    "    elif 6042010 <= aranc_nac <= 6049000 :\n",
    "        data.loc[index, \"GROUP\"] = \"E\"\n",
    "    else:\n",
    "        data.loc[index, \"GROUP\"] = \"F\"\n",
    "        \n",
    "data = data[data[\"GROUP\"] != \"F\"]\n",
    "            \n",
    "data.to_csv(filename_write, sep=\";\", encoding=\"latin1\", header=True,\n",
    "                   index=False, quoting=csv.QUOTE_NONE)"
   ]
  },
  {
   "cell_type": "markdown",
   "metadata": {},
   "source": [
    "# Export"
   ]
  },
  {
   "cell_type": "code",
   "execution_count": 4,
   "metadata": {
    "collapsed": true
   },
   "outputs": [],
   "source": [
    "filename_read = \"data\" + os.sep + \"export\" + os.sep + \"all_export.txt\"\n",
    "filename_write = \"data\" + os.sep + \"export\" + os.sep + \"all_export_with_group.txt\"\n",
    "\n",
    "data = pd.read_csv(filename_read, sep=\";\", encoding=\"latin1\", quoting=csv.QUOTE_NONE, dtype = object)\n",
    "data[\"GROUP\"] = \"\"\n",
    "\n",
    "for index, row in data.iterrows():\n",
    "    aranc_nac = int(row[\"CODIGOARANCEL\"])\n",
    "    if 6011000 <= aranc_nac <= 6012090:\n",
    "        data.loc[index, \"GROUP\"] = \"A\"\n",
    "    elif aranc_nac == 6022010 or (6023000 <= aranc_nac <= 6029000) or (6029014 <= aranc_nac <= 6029019):\n",
    "        data.loc[index, \"GROUP\"] = \"B\"\n",
    "    elif aranc_nac == 6029051 or (6029055 <= aranc_nac <= 6029090):\n",
    "        data.loc[index, \"GROUP\"] = \"C\"\n",
    "    elif 6031100 <= aranc_nac <=  6039000:\n",
    "        data.loc[index, \"GROUP\"] = \"D\"\n",
    "    elif 6042010 <= aranc_nac <= 6049000 :\n",
    "        data.loc[index, \"GROUP\"] = \"E\"\n",
    "    else:\n",
    "        data.loc[index, \"GROUP\"] = \"F\"\n",
    "        \n",
    "data = data[data[\"GROUP\"] != \"F\"]\n",
    "\n",
    "data.to_csv(filename_write, sep=\";\", encoding=\"latin1\", header=True,\n",
    "                   index=False, quoting=csv.QUOTE_NONE)"
   ]
  }
 ],
 "metadata": {
  "kernelspec": {
   "display_name": "Python 3",
   "language": "python",
   "name": "python3"
  },
  "language_info": {
   "codemirror_mode": {
    "name": "ipython",
    "version": 3
   },
   "file_extension": ".py",
   "mimetype": "text/x-python",
   "name": "python",
   "nbconvert_exporter": "python",
   "pygments_lexer": "ipython3",
   "version": "3.6.1"
  }
 },
 "nbformat": 4,
 "nbformat_minor": 2
}
